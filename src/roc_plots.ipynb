{
 "cells": [
  {
   "cell_type": "code",
   "execution_count": 1,
   "metadata": {
    "collapsed": true
   },
   "outputs": [],
   "source": [
    "import pandas as pd\n",
    "\n",
    "from data.create_dataset import *\n",
    "from analysis_pipeline import *\n",
    "from classification_model import *\n",
    "import numpy as np\n",
    "import matplotlib.pyplot as plt\n",
    "from sklearn.metrics import roc_curve\n",
    "from sklearn.metrics import roc_auc_score\n",
    "\n",
    "import scikitplot as skplt"
   ]
  },
  {
   "cell_type": "code",
   "execution_count": 3,
   "outputs": [
    {
     "name": "stderr",
     "output_type": "stream",
     "text": [
      "100%|██████████| 60/60 [00:15<00:00,  3.87it/s]\n",
      "100%|██████████| 60/60 [00:15<00:00,  3.86it/s]\n",
      "100%|██████████| 60/60 [00:15<00:00,  3.84it/s]\n",
      "100%|██████████| 60/60 [00:15<00:00,  3.89it/s]\n",
      "100%|██████████| 60/60 [00:15<00:00,  3.89it/s]\n",
      "100%|██████████| 60/60 [00:15<00:00,  3.90it/s]\n",
      "100%|██████████| 60/60 [00:15<00:00,  3.87it/s]\n",
      "100%|██████████| 60/60 [00:15<00:00,  3.89it/s]\n",
      "100%|██████████| 60/60 [00:15<00:00,  3.90it/s]\n",
      "100%|██████████| 60/60 [00:15<00:00,  3.88it/s]\n",
      "100%|██████████| 60/60 [00:15<00:00,  3.88it/s]\n",
      "100%|██████████| 60/60 [00:15<00:00,  3.88it/s]\n",
      "100%|██████████| 60/60 [00:15<00:00,  3.88it/s]\n",
      "100%|██████████| 60/60 [00:15<00:00,  3.83it/s]\n",
      "100%|██████████| 60/60 [00:15<00:00,  3.77it/s]\n",
      "100%|██████████| 60/60 [00:15<00:00,  3.89it/s]\n",
      "100%|██████████| 60/60 [00:15<00:00,  3.89it/s]\n",
      "100%|██████████| 60/60 [00:15<00:00,  3.86it/s]\n",
      "100%|██████████| 60/60 [00:15<00:00,  3.89it/s]\n",
      "100%|██████████| 60/60 [00:15<00:00,  3.89it/s]\n",
      "100%|██████████| 60/60 [00:15<00:00,  3.88it/s]\n",
      "100%|██████████| 60/60 [00:15<00:00,  3.86it/s]\n",
      "100%|██████████| 60/60 [00:15<00:00,  3.89it/s]\n",
      "100%|██████████| 60/60 [00:15<00:00,  3.88it/s]\n",
      "100%|██████████| 60/60 [00:15<00:00,  3.88it/s]\n",
      "100%|██████████| 60/60 [00:15<00:00,  3.87it/s]\n",
      "100%|██████████| 60/60 [00:15<00:00,  3.89it/s]\n",
      "100%|██████████| 60/60 [00:15<00:00,  3.88it/s]\n",
      "100%|██████████| 60/60 [00:15<00:00,  3.89it/s]\n",
      "100%|██████████| 60/60 [00:15<00:00,  3.83it/s]\n",
      "100%|██████████| 60/60 [00:15<00:00,  3.88it/s]\n",
      "100%|██████████| 60/60 [00:15<00:00,  3.89it/s]\n",
      "100%|██████████| 60/60 [00:15<00:00,  3.85it/s]\n",
      "100%|██████████| 60/60 [00:15<00:00,  3.88it/s]\n",
      "100%|██████████| 60/60 [00:15<00:00,  3.86it/s]\n",
      "100%|██████████| 60/60 [00:15<00:00,  3.87it/s]\n",
      "100%|██████████| 60/60 [00:15<00:00,  3.86it/s]\n",
      "100%|██████████| 60/60 [00:15<00:00,  3.87it/s]\n",
      "100%|██████████| 60/60 [00:15<00:00,  3.88it/s]\n",
      "100%|██████████| 60/60 [00:15<00:00,  3.88it/s]\n",
      "100%|██████████| 60/60 [00:15<00:00,  3.85it/s]\n",
      "100%|██████████| 60/60 [00:15<00:00,  3.89it/s]\n"
     ]
    },
    {
     "name": "stdout",
     "output_type": "stream",
     "text": [
      "Accuracy: 0.8333333333333334\n",
      "AUC: 0.8716049382716049\n"
     ]
    },
    {
     "name": "stderr",
     "output_type": "stream",
     "text": [
      "100%|██████████| 30/30 [00:04<00:00,  7.24it/s]\n",
      "100%|██████████| 30/30 [00:04<00:00,  7.22it/s]\n",
      "100%|██████████| 30/30 [00:04<00:00,  7.26it/s]\n",
      "100%|██████████| 30/30 [00:04<00:00,  7.27it/s]\n",
      "100%|██████████| 30/30 [00:04<00:00,  7.22it/s]\n",
      "100%|██████████| 30/30 [00:04<00:00,  7.11it/s]\n",
      "100%|██████████| 30/30 [00:04<00:00,  7.22it/s]\n",
      "100%|██████████| 30/30 [00:04<00:00,  7.03it/s]\n",
      "100%|██████████| 30/30 [00:04<00:00,  7.22it/s]\n",
      "100%|██████████| 30/30 [00:04<00:00,  7.25it/s]\n",
      "100%|██████████| 30/30 [00:04<00:00,  7.25it/s]\n",
      "100%|██████████| 30/30 [00:04<00:00,  7.26it/s]\n",
      "100%|██████████| 30/30 [00:04<00:00,  7.26it/s]\n",
      "100%|██████████| 30/30 [00:04<00:00,  7.27it/s]\n",
      "100%|██████████| 30/30 [00:04<00:00,  7.24it/s]\n",
      "100%|██████████| 30/30 [00:04<00:00,  7.24it/s]\n",
      "100%|██████████| 30/30 [00:04<00:00,  7.25it/s]\n",
      "100%|██████████| 30/30 [00:04<00:00,  7.26it/s]\n",
      "100%|██████████| 30/30 [00:04<00:00,  7.25it/s]\n",
      "100%|██████████| 30/30 [00:04<00:00,  7.25it/s]\n",
      "100%|██████████| 30/30 [00:04<00:00,  7.23it/s]\n",
      "100%|██████████| 30/30 [00:04<00:00,  7.08it/s]\n",
      "100%|██████████| 30/30 [00:04<00:00,  7.27it/s]\n",
      "100%|██████████| 30/30 [00:04<00:00,  7.26it/s]\n",
      "100%|██████████| 30/30 [00:04<00:00,  7.26it/s]\n",
      "100%|██████████| 30/30 [00:04<00:00,  7.26it/s]\n",
      "100%|██████████| 30/30 [00:04<00:00,  7.26it/s]\n"
     ]
    },
    {
     "name": "stdout",
     "output_type": "stream",
     "text": [
      "Accuracy: 0.7777777777777778\n",
      "AUC: 0.7527472527472527\n"
     ]
    },
    {
     "name": "stderr",
     "output_type": "stream",
     "text": [
      "100%|██████████| 90/90 [01:42<00:00,  1.14s/it]\n",
      "100%|██████████| 90/90 [01:42<00:00,  1.13s/it]\n",
      "100%|██████████| 90/90 [01:41<00:00,  1.13s/it]\n",
      "100%|██████████| 90/90 [01:41<00:00,  1.13s/it]\n",
      "100%|██████████| 90/90 [01:41<00:00,  1.13s/it]\n",
      "100%|██████████| 90/90 [01:42<00:00,  1.13s/it]\n",
      "100%|██████████| 90/90 [01:41<00:00,  1.13s/it]\n",
      "100%|██████████| 90/90 [01:41<00:00,  1.13s/it]\n",
      "100%|██████████| 90/90 [01:41<00:00,  1.13s/it]\n",
      "100%|██████████| 90/90 [01:42<00:00,  1.13s/it]\n",
      "100%|██████████| 90/90 [01:42<00:00,  1.13s/it]\n",
      "100%|██████████| 90/90 [01:42<00:00,  1.13s/it]\n",
      "100%|██████████| 90/90 [01:42<00:00,  1.13s/it]\n",
      "100%|██████████| 90/90 [01:42<00:00,  1.13s/it]\n",
      "100%|██████████| 90/90 [01:41<00:00,  1.13s/it]\n",
      "100%|██████████| 90/90 [01:42<00:00,  1.13s/it]\n",
      "100%|██████████| 90/90 [01:42<00:00,  1.13s/it]\n",
      "100%|██████████| 90/90 [01:41<00:00,  1.13s/it]\n",
      "100%|██████████| 90/90 [01:42<00:00,  1.14s/it]\n",
      "100%|██████████| 90/90 [01:42<00:00,  1.13s/it]\n",
      "100%|██████████| 90/90 [01:42<00:00,  1.13s/it]\n",
      "100%|██████████| 90/90 [01:41<00:00,  1.13s/it]\n"
     ]
    },
    {
     "name": "stdout",
     "output_type": "stream",
     "text": [
      "Accuracy: 0.8636363636363636\n",
      "AUC: 0.9166666666666666\n"
     ]
    },
    {
     "name": "stderr",
     "output_type": "stream",
     "text": [
      "100%|██████████| 60/60 [02:20<00:00,  2.35s/it]\n",
      "100%|██████████| 60/60 [02:18<00:00,  2.31s/it]\n",
      "100%|██████████| 60/60 [02:16<00:00,  2.28s/it]\n",
      "100%|██████████| 60/60 [02:18<00:00,  2.31s/it]\n",
      "100%|██████████| 60/60 [02:17<00:00,  2.28s/it]\n",
      "100%|██████████| 60/60 [02:16<00:00,  2.28s/it]\n",
      "100%|██████████| 60/60 [02:16<00:00,  2.28s/it]\n",
      "100%|██████████| 60/60 [02:20<00:00,  2.35s/it]\n",
      "100%|██████████| 60/60 [02:16<00:00,  2.27s/it]\n",
      "100%|██████████| 60/60 [02:16<00:00,  2.27s/it]\n",
      "100%|██████████| 60/60 [02:16<00:00,  2.28s/it]\n",
      "100%|██████████| 60/60 [02:17<00:00,  2.29s/it]\n",
      "100%|██████████| 60/60 [02:17<00:00,  2.29s/it]\n",
      "100%|██████████| 60/60 [02:18<00:00,  2.31s/it]\n",
      "100%|██████████| 60/60 [02:16<00:00,  2.27s/it]\n",
      "100%|██████████| 60/60 [02:18<00:00,  2.31s/it]\n",
      "100%|██████████| 60/60 [02:16<00:00,  2.28s/it]\n",
      "100%|██████████| 60/60 [02:15<00:00,  2.26s/it]\n",
      "100%|██████████| 60/60 [02:18<00:00,  2.31s/it]\n"
     ]
    },
    {
     "name": "stdout",
     "output_type": "stream",
     "text": [
      "Accuracy: 0.8947368421052632\n",
      "AUC: 0.8888888888888888\n"
     ]
    },
    {
     "name": "stderr",
     "output_type": "stream",
     "text": [
      "100%|██████████| 5/5 [00:10<00:00,  2.19s/it]\n",
      "100%|██████████| 5/5 [00:09<00:00,  1.92s/it]\n",
      "100%|██████████| 5/5 [00:09<00:00,  1.88s/it]\n",
      "100%|██████████| 5/5 [00:09<00:00,  1.86s/it]\n",
      "100%|██████████| 5/5 [00:09<00:00,  1.81s/it]\n",
      "100%|██████████| 5/5 [00:09<00:00,  1.80s/it]\n",
      "100%|██████████| 5/5 [00:09<00:00,  1.81s/it]\n",
      "100%|██████████| 5/5 [00:09<00:00,  1.87s/it]\n",
      "100%|██████████| 5/5 [00:09<00:00,  1.81s/it]\n",
      "100%|██████████| 5/5 [00:09<00:00,  1.81s/it]\n"
     ]
    },
    {
     "name": "stdout",
     "output_type": "stream",
     "text": [
      "Accuracy: 0.8\n",
      "AUC: 0.8333333333333333\n"
     ]
    },
    {
     "data": {
      "text/plain": "<Figure size 432x288 with 1 Axes>",
      "image/png": "[encoded data removed]"
     },
     "metadata": {
      "needs_background": "light"
     },
     "output_type": "display_data"
    }
   ],
   "source": [
    "folder = '../data/'\n",
    "%matplotlib inline\n",
    "fig = plt.figure(0).clf()\n",
    "\n",
    "ax = plt.axes()\n",
    "ax.set_facecolor(\"white\")\n",
    "\n",
    "features = {\"Breast_Cancer\":60, \"Hepatocarcinoma\":30, \"Lymphoma\":90, \"Meduloblastoma\":60,\"Prostate_Cancer\":5}\n",
    "\n",
    "cancer_types = [\"Breast_Cancer\", \"Hepatocarcinoma\", \"Lymphoma\", \"Meduloblastoma\", \"Prostate_Cancer\"]\n",
    "# cancer_types = [\"Breast_Cancer\"]\n",
    "\n",
    "for cancer_type in cancer_types:\n",
    "    df, df_cancer, df_control = create_dataset_original(folder + cancer_type)\n",
    "\n",
    "    confusion_matrix, fpr, tpr, thresh, auc, y_test, y_proba, y_pred = loocv_pipeline(df, df_cancer, df_control, cancer_type, features[cancer_type])\n",
    "\n",
    "    tn, fp, fn, tp = confusion_matrix.ravel()\n",
    "    print(\"Accuracy:\", (tp + tn) / (tp + tn + fp + fn))\n",
    "    print(\"AUC:\", auc)\n",
    "\n",
    "    plt.plot(fpr, tpr, label=cancer_type+f', AUC={round(auc,4)}')\n",
    "    # skplt.metrics.plot_roc(y_test, y_proba)\n",
    "\n",
    "plt.ylabel('True Positive Rate')\n",
    "plt.xlabel('False Positive Rate')\n",
    "plt.title(\"ROC-curves of MLP-classifier for different types of cancers\")\n",
    "plt.legend()\n",
    "plt.savefig('plot2.png', dpi=300, bbox_inches='tight')\n",
    "plt.show()"
   ],
   "metadata": {
    "collapsed": false,
    "pycharm": {
     "name": "#%%\n"
    }
   }
  },
  {
   "cell_type": "code",
   "execution_count": null,
   "outputs": [],
   "source": [],
   "metadata": {
    "collapsed": false,
    "pycharm": {
     "name": "#%%\n"
    }
   }
  },
  {
   "cell_type": "code",
   "execution_count": null,
   "outputs": [],
   "source": [],
   "metadata": {
    "collapsed": false,
    "pycharm": {
     "name": "#%%\n"
    }
   }
  }
 ],
 "metadata": {
  "kernelspec": {
   "display_name": "Python 3",
   "language": "python",
   "name": "python3"
  },
  "language_info": {
   "codemirror_mode": {
    "name": "ipython",
    "version": 2
   },
   "file_extension": ".py",
   "mimetype": "text/x-python",
   "name": "python",
   "nbconvert_exporter": "python",
   "pygments_lexer": "ipython2",
   "version": "2.7.6"
  }
 },
 "nbformat": 4,
 "nbformat_minor": 0
}