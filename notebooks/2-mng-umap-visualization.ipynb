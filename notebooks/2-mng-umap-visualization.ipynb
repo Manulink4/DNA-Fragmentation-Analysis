{
 "cells": [
  {
   "cell_type": "code",
   "execution_count": 2,
   "metadata": {
    "collapsed": true
   },
   "outputs": [],
   "source": [
    "import os\n",
    "import glob\n",
    "\n",
    "#dataset\n",
    "import pandas as pd\n",
    "import numpy as np\n",
    "\n",
    "#utils\n",
    "from src.data.dataset import create_dataset"
   ]
  },
  {
   "cell_type": "code",
   "execution_count": 39,
   "outputs": [],
   "source": [
    "# PARSER FOR LYMPHOMA .BREAKAGE FILES\n",
    "directory = '../data/Lymphoma/control'\n",
    "\n",
    "for file in glob.glob(os.path.join(directory, '*.breakage')):\n",
    "    with open(file) as f:\n",
    "        content = f.read()\n",
    "    content = content.replace('chr', '')\n",
    "    with open(file, 'w') as f:\n",
    "        f.write(content)\n"
   ],
   "metadata": {
    "collapsed": false,
    "pycharm": {
     "name": "#%%\n"
    }
   }
  },
  {
   "cell_type": "code",
   "execution_count": 43,
   "outputs": [],
   "source": [
    "folder = '../data/'\n",
    "cancer_types = [\"Breast_Cancer\", \"Hepatocarcinoma\", \"Lymphoma\", \"Meduloblastoma\", \"Prostate_Cancer\"]\n",
    "\n",
    "dataframes = []\n",
    "for cancer in cancer_types:\n",
    "    df, df_control, df_cancer = create_dataset(folder + cancer)\n",
    "    dataframes.append(df)\n",
    "\n",
    "df_full = pd.concat(dataframes, axis=1).dropna()"
   ],
   "metadata": {
    "collapsed": false,
    "pycharm": {
     "name": "#%%\n"
    }
   }
  },
  {
   "cell_type": "code",
   "execution_count": null,
   "outputs": [],
   "source": [
    "df_full.T"
   ],
   "metadata": {
    "collapsed": false,
    "pycharm": {
     "name": "#%%\n"
    }
   }
  }
 ],
 "metadata": {
  "kernelspec": {
   "display_name": "Python 3",
   "language": "python",
   "name": "python3"
  },
  "language_info": {
   "codemirror_mode": {
    "name": "ipython",
    "version": 2
   },
   "file_extension": ".py",
   "mimetype": "text/x-python",
   "name": "python",
   "nbconvert_exporter": "python",
   "pygments_lexer": "ipython2",
   "version": "2.7.6"
  }
 },
 "nbformat": 4,
 "nbformat_minor": 0
}